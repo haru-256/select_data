{
 "cells": [
  {
   "cell_type": "code",
   "execution_count": 1,
   "metadata": {
    "ExecuteTime": {
     "end_time": "2019-05-13T01:38:38.538267Z",
     "start_time": "2019-05-13T01:38:36.123085Z"
    }
   },
   "outputs": [],
   "source": [
    "import pathlib\n",
    "import cv2\n",
    "import matplotlib.pyplot as plt\n",
    "import numpy as np\n",
    "import pandas as pd\n",
    "from sklearn.model_selection import train_test_split"
   ]
  },
  {
   "cell_type": "markdown",
   "metadata": {},
   "source": [
    "# パスの宣言&データフレーム読み込み"
   ]
  },
  {
   "cell_type": "code",
   "execution_count": 3,
   "metadata": {
    "ExecuteTime": {
     "end_time": "2019-05-13T01:39:04.780643Z",
     "start_time": "2019-05-13T01:39:03.359619Z"
    }
   },
   "outputs": [
    {
     "name": "stdout",
     "output_type": "stream",
     "text": [
      "データ数: 211080\n"
     ]
    },
    {
     "data": {
      "text/html": [
       "<div>\n",
       "<style scoped>\n",
       "    .dataframe tbody tr th:only-of-type {\n",
       "        vertical-align: middle;\n",
       "    }\n",
       "\n",
       "    .dataframe tbody tr th {\n",
       "        vertical-align: top;\n",
       "    }\n",
       "\n",
       "    .dataframe thead th {\n",
       "        text-align: right;\n",
       "    }\n",
       "</style>\n",
       "<table border=\"1\" class=\"dataframe\">\n",
       "  <thead>\n",
       "    <tr style=\"text-align: right;\">\n",
       "      <th></th>\n",
       "      <th>img_path</th>\n",
       "      <th>keypoint_path</th>\n",
       "      <th>visualized_path</th>\n",
       "      <th>inpu_map_path</th>\n",
       "    </tr>\n",
       "  </thead>\n",
       "  <tbody>\n",
       "    <tr>\n",
       "      <th>0</th>\n",
       "      <td>/home/yohei/Documents/tlab/data/fashion550k/ph...</td>\n",
       "      <td>/home/yohei/Documents/tlab/data/fashion550k/an...</td>\n",
       "      <td>/home/yohei/Documents/tlab/data/fashion550k/an...</td>\n",
       "      <td>/mnt/data/fashion550k/annotation/input_map/273...</td>\n",
       "    </tr>\n",
       "    <tr>\n",
       "      <th>1</th>\n",
       "      <td>/home/yohei/Documents/tlab/data/fashion550k/ph...</td>\n",
       "      <td>/home/yohei/Documents/tlab/data/fashion550k/an...</td>\n",
       "      <td>/home/yohei/Documents/tlab/data/fashion550k/an...</td>\n",
       "      <td>/mnt/data/fashion550k/annotation/input_map/273...</td>\n",
       "    </tr>\n",
       "    <tr>\n",
       "      <th>2</th>\n",
       "      <td>/home/yohei/Documents/tlab/data/fashion550k/ph...</td>\n",
       "      <td>/home/yohei/Documents/tlab/data/fashion550k/an...</td>\n",
       "      <td>/home/yohei/Documents/tlab/data/fashion550k/an...</td>\n",
       "      <td>/mnt/data/fashion550k/annotation/input_map/273...</td>\n",
       "    </tr>\n",
       "    <tr>\n",
       "      <th>3</th>\n",
       "      <td>/home/yohei/Documents/tlab/data/fashion550k/ph...</td>\n",
       "      <td>/home/yohei/Documents/tlab/data/fashion550k/an...</td>\n",
       "      <td>/home/yohei/Documents/tlab/data/fashion550k/an...</td>\n",
       "      <td>/mnt/data/fashion550k/annotation/input_map/273...</td>\n",
       "    </tr>\n",
       "    <tr>\n",
       "      <th>4</th>\n",
       "      <td>/home/yohei/Documents/tlab/data/fashion550k/ph...</td>\n",
       "      <td>/home/yohei/Documents/tlab/data/fashion550k/an...</td>\n",
       "      <td>/home/yohei/Documents/tlab/data/fashion550k/an...</td>\n",
       "      <td>/mnt/data/fashion550k/annotation/input_map/273...</td>\n",
       "    </tr>\n",
       "  </tbody>\n",
       "</table>\n",
       "</div>"
      ],
      "text/plain": [
       "                                            img_path  \\\n",
       "0  /home/yohei/Documents/tlab/data/fashion550k/ph...   \n",
       "1  /home/yohei/Documents/tlab/data/fashion550k/ph...   \n",
       "2  /home/yohei/Documents/tlab/data/fashion550k/ph...   \n",
       "3  /home/yohei/Documents/tlab/data/fashion550k/ph...   \n",
       "4  /home/yohei/Documents/tlab/data/fashion550k/ph...   \n",
       "\n",
       "                                       keypoint_path  \\\n",
       "0  /home/yohei/Documents/tlab/data/fashion550k/an...   \n",
       "1  /home/yohei/Documents/tlab/data/fashion550k/an...   \n",
       "2  /home/yohei/Documents/tlab/data/fashion550k/an...   \n",
       "3  /home/yohei/Documents/tlab/data/fashion550k/an...   \n",
       "4  /home/yohei/Documents/tlab/data/fashion550k/an...   \n",
       "\n",
       "                                     visualized_path  \\\n",
       "0  /home/yohei/Documents/tlab/data/fashion550k/an...   \n",
       "1  /home/yohei/Documents/tlab/data/fashion550k/an...   \n",
       "2  /home/yohei/Documents/tlab/data/fashion550k/an...   \n",
       "3  /home/yohei/Documents/tlab/data/fashion550k/an...   \n",
       "4  /home/yohei/Documents/tlab/data/fashion550k/an...   \n",
       "\n",
       "                                       inpu_map_path  \n",
       "0  /mnt/data/fashion550k/annotation/input_map/273...  \n",
       "1  /mnt/data/fashion550k/annotation/input_map/273...  \n",
       "2  /mnt/data/fashion550k/annotation/input_map/273...  \n",
       "3  /mnt/data/fashion550k/annotation/input_map/273...  \n",
       "4  /mnt/data/fashion550k/annotation/input_map/273...  "
      ]
     },
     "execution_count": 3,
     "metadata": {},
     "output_type": "execute_result"
    }
   ],
   "source": [
    "# path\n",
    "root_dir = pathlib.Path(\"../../data/fashion550k\").resolve()\n",
    "original_csv_path = root_dir / \"dataframe/dataframe.csv\"\n",
    "# 対象はデータ選択1-2のデータセット\n",
    "csv_path = root_dir / \"dataframe/selection1-2/selection05-04_df.csv\"\n",
    "save_dir = pathlib.Path(\"preliminaryExperiment\")\n",
    "if not save_dir.exists():\n",
    "    save_dir.mkdir()\n",
    "# データ選択０で指定されたデータフレーム\n",
    "df = pd.read_csv(csv_path)\n",
    "print(\"データ数:\", len(df))\n",
    "df.head()"
   ]
  },
  {
   "cell_type": "markdown",
   "metadata": {},
   "source": [
    "# データ選択\n",
    "seed = 2718でランダムサンプリング"
   ]
  },
  {
   "cell_type": "code",
   "execution_count": 4,
   "metadata": {
    "ExecuteTime": {
     "end_time": "2019-05-13T01:39:11.147646Z",
     "start_time": "2019-05-13T01:39:11.033344Z"
    }
   },
   "outputs": [
    {
     "name": "stdout",
     "output_type": "stream",
     "text": [
      "train_size：49825 | val_size:10000 | test_size:151255\n"
     ]
    }
   ],
   "source": [
    "train_size = 49825\n",
    "val_size=10000\n",
    "seed = 2718\n",
    "train_df, test_df = train_test_split(df,\n",
    "                                     train_size=train_size + val_size,\n",
    "                                     random_state=seed)\n",
    "train_df, val_df = train_test_split(train_df, test_size=val_size, random_state=seed)\n",
    "print(\"train_size：{} | val_size:{} | test_size:{}\".format(\n",
    "    len(train_df), len(val_df), len(test_df)))"
   ]
  },
  {
   "cell_type": "code",
   "execution_count": 5,
   "metadata": {
    "ExecuteTime": {
     "end_time": "2019-05-13T01:39:17.141558Z",
     "start_time": "2019-05-13T01:39:14.840432Z"
    }
   },
   "outputs": [],
   "source": [
    "# 保存\n",
    "train_df.to_csv(save_dir / \"train_df.csv\")\n",
    "val_df.to_csv(save_dir / \"val_df.csv\")\n",
    "test_df.to_csv(save_dir / \"test_df.csv\")"
   ]
  },
  {
   "cell_type": "code",
   "execution_count": null,
   "metadata": {},
   "outputs": [],
   "source": []
  }
 ],
 "metadata": {
  "kernelspec": {
   "display_name": "Python 3",
   "language": "python",
   "name": "python3"
  },
  "language_info": {
   "codemirror_mode": {
    "name": "ipython",
    "version": 3
   },
   "file_extension": ".py",
   "mimetype": "text/x-python",
   "name": "python",
   "nbconvert_exporter": "python",
   "pygments_lexer": "ipython3",
   "version": "3.7.0"
  },
  "toc": {
   "base_numbering": 1,
   "nav_menu": {},
   "number_sections": true,
   "sideBar": true,
   "skip_h1_title": false,
   "title_cell": "Table of Contents",
   "title_sidebar": "Contents",
   "toc_cell": false,
   "toc_position": {},
   "toc_section_display": true,
   "toc_window_display": false
  }
 },
 "nbformat": 4,
 "nbformat_minor": 2
}
